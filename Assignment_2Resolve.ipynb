{
 "cells": [
  {
   "cell_type": "code",
   "execution_count": 1,
   "metadata": {},
   "outputs": [
    {
     "name": "stdout",
     "output_type": "stream",
     "text": [
      "15\n"
     ]
    }
   ],
   "source": [
    "def myreduce(fun, seq):\n",
    "    if len(seq) == 0:\n",
    "        return None\n",
    "    itr = seq[0]\n",
    "    for i in range(1, len(seq)):\n",
    "        itr = fun(itr, seq[i])\n",
    "    return itr\n",
    "\n",
    "l = [1,2,3,4,5]\n",
    "print(myreduce(lambda x,y: x+y, l))"
   ]
  },
  {
   "cell_type": "code",
   "execution_count": 2,
   "metadata": {},
   "outputs": [
    {
     "name": "stdout",
     "output_type": "stream",
     "text": [
      "[65, 39, 221]\n"
     ]
    }
   ],
   "source": [
    "def filtr(func, itr):\n",
    "    if(len(itr) == 0):\n",
    "        return None;\n",
    "    m = []\n",
    "    for i in range(len(itr)):\n",
    "        res = func(itr[i])\n",
    "        if(res):\n",
    "            m.append(itr[i])\n",
    "    print(m)\n",
    "\n",
    "l = [12, 65, 54, 39, 102, 339, 221, 50, 70]\n",
    "filtr(lambda x : x % 13 == 0, l)"
   ]
  },
  {
   "cell_type": "code",
   "execution_count": 3,
   "metadata": {},
   "outputs": [
    {
     "data": {
      "text/plain": [
       "['A', 'C', 'A', 'D', 'G', 'I', 'L', 'D']"
      ]
     },
     "execution_count": 3,
     "metadata": {},
     "output_type": "execute_result"
    }
   ],
   "source": [
    "l = 'ACADGILD'\n",
    "[l[i] for i in range(len(l))]"
   ]
  },
  {
   "cell_type": "code",
   "execution_count": 4,
   "metadata": {},
   "outputs": [
    {
     "data": {
      "text/plain": [
       "['x', 'xx', 'xxx', 'xxxx', 'y', 'yy', 'yyy', 'yyyy', 'z', 'zz', 'zzz', 'zzzz']"
      ]
     },
     "execution_count": 4,
     "metadata": {},
     "output_type": "execute_result"
    }
   ],
   "source": [
    "l = 'xyz'\n",
    "m = [[l[i], l[i]+l[i], l[i]+l[i]+l[i], l[i]+l[i]+l[i]+l[i]] for i in range(len(l))]\n",
    "[j for i in m for j in i]"
   ]
  },
  {
   "cell_type": "code",
   "execution_count": 5,
   "metadata": {},
   "outputs": [
    {
     "data": {
      "text/plain": [
       "['x', 'xx', 'xxx', 'xxxx', 'y', 'yy', 'yyy', 'yyyy', 'z', 'zz', 'zzz', 'zzzz']"
      ]
     },
     "execution_count": 5,
     "metadata": {},
     "output_type": "execute_result"
    }
   ],
   "source": [
    "l = ['x','y','z']\n",
    "[j*i for j in l for i in range(1, 5)]"
   ]
  },
  {
   "cell_type": "code",
   "execution_count": 6,
   "metadata": {},
   "outputs": [
    {
     "data": {
      "text/plain": [
       "['x', 'y', 'z', 'xx', 'yy', 'zz', 'xxx', 'yyy', 'zzz', 'xxxx', 'yyyy', 'zzzz']"
      ]
     },
     "execution_count": 6,
     "metadata": {},
     "output_type": "execute_result"
    }
   ],
   "source": [
    "l = 'xyz'\n",
    "m = [[l[i], l[i]+l[i], l[i]+l[i]+l[i], l[i]+l[i]+l[i]+l[i]] for i in range(len(l))]\n",
    "[i[j] for j in range(len(m[0])) for i in m  ]"
   ]
  },
  {
   "cell_type": "code",
   "execution_count": 7,
   "metadata": {},
   "outputs": [
    {
     "data": {
      "text/plain": [
       "['x', 'y', 'z', 'xx', 'yy', 'zz', 'xxx', 'yyy', 'zzz', 'xxxx', 'yyyy', 'zzzz']"
      ]
     },
     "execution_count": 7,
     "metadata": {},
     "output_type": "execute_result"
    }
   ],
   "source": [
    "l = ['x','y','z']\n",
    "[j*i for i in range(1, 5) for j in l]"
   ]
  },
  {
   "cell_type": "code",
   "execution_count": 8,
   "metadata": {},
   "outputs": [
    {
     "data": {
      "text/plain": [
       "[[2], [3], [4], [3], [4], [5], [4], [5], [6]]"
      ]
     },
     "execution_count": 8,
     "metadata": {},
     "output_type": "execute_result"
    }
   ],
   "source": [
    "l = [2,3,4]\n",
    "[[j+i] for i in range(0,3) for j in l]"
   ]
  },
  {
   "cell_type": "code",
   "execution_count": 9,
   "metadata": {},
   "outputs": [
    {
     "data": {
      "text/plain": [
       "[[2, 3, 4, 5], [3, 4, 5, 6], [4, 5, 6, 7], [5, 6, 7, 8]]"
      ]
     },
     "execution_count": 9,
     "metadata": {},
     "output_type": "execute_result"
    }
   ],
   "source": [
    "l = [2,3,4,5]\n",
    "[[j+i for i in range(0,4)] for j in l]"
   ]
  },
  {
   "cell_type": "code",
   "execution_count": 10,
   "metadata": {},
   "outputs": [
    {
     "data": {
      "text/plain": [
       "[(1, 1), (2, 1), (3, 1), (1, 2), (2, 2), (3, 2), (1, 3), (2, 3), (3, 3)]"
      ]
     },
     "execution_count": 10,
     "metadata": {},
     "output_type": "execute_result"
    }
   ],
   "source": [
    "l = [1,2,3]\n",
    "[(l[j], i) for i in l for j in range(len(l))]"
   ]
  },
  {
   "cell_type": "code",
   "execution_count": 11,
   "metadata": {},
   "outputs": [
    {
     "name": "stdout",
     "output_type": "stream",
     "text": [
      "regregdfgds\n"
     ]
    }
   ],
   "source": [
    "def longestWord(words):\n",
    "    longWrd = ''\n",
    "    for wrd in words:\n",
    "        if(len(wrd) > len(longWrd)):\n",
    "           longWrd = wrd\n",
    "    print(longWrd)\n",
    "\n",
    "wrd = ['sdferf', 'dfgds','regregdfgds']\n",
    "longestWord(wrd)"
   ]
  },
  {
   "cell_type": "code",
   "execution_count": 12,
   "metadata": {},
   "outputs": [
    {
     "name": "stdout",
     "output_type": "stream",
     "text": [
      "1.7320508075688772\n"
     ]
    }
   ],
   "source": [
    "class LengthOfSide:\n",
    "    def __init__(self, a, b, c):\n",
    "        self.a = a\n",
    "        self.b = b\n",
    "        self.c = c\n",
    "\n",
    "class CalculateArea(LengthOfSide):\n",
    "    def areaCal(self):\n",
    "        a = self.a\n",
    "        b = self.b\n",
    "        c = self.c\n",
    "        s = ((self.a + self.b + self.c)/2)\n",
    "        area = (s*(s-a)*(s-b)*(s-c)) ** 0.5\n",
    "        print(area)\n",
    "\n",
    "b = CalculateArea(2,2,2)\n",
    "b.areaCal()"
   ]
  },
  {
   "cell_type": "code",
   "execution_count": 13,
   "metadata": {},
   "outputs": [
    {
     "name": "stdout",
     "output_type": "stream",
     "text": [
      "['kjsdfjk', 'kjsdfkj']\n"
     ]
    }
   ],
   "source": [
    "def longestWord(words, n):\n",
    "    longWrdlLst = []\n",
    "    for wrd in words:\n",
    "        if(len(wrd) > n):\n",
    "           longWrdlLst.append(wrd)\n",
    "    print(longWrdlLst)\n",
    "\n",
    "wrd = ['sdsf', 'kjsdfjk', 'kjsdfkj']\n",
    "longestWord(wrd, 5)"
   ]
  },
  {
   "cell_type": "code",
   "execution_count": 14,
   "metadata": {},
   "outputs": [
    {
     "name": "stdout",
     "output_type": "stream",
     "text": [
      "[4, 7, 7]\n"
     ]
    }
   ],
   "source": [
    "def wordLength(lstWords):\n",
    "    lenLst = []\n",
    "    for wrd in lstWords:\n",
    "        lenLst.append(len(wrd))        \n",
    "    print(lenLst)\n",
    "\n",
    "lstWrd = ['sdsf', 'kjsdfjk', 'kjsdfkj']\n",
    "wordLength(lstWrd)"
   ]
  },
  {
   "cell_type": "code",
   "execution_count": 15,
   "metadata": {},
   "outputs": [
    {
     "data": {
      "text/plain": [
       "False"
      ]
     },
     "execution_count": 15,
     "metadata": {},
     "output_type": "execute_result"
    }
   ],
   "source": [
    "def checkVowel(char):\n",
    "        if char in ['a', 'e', 'i', 'o', 'u']:\n",
    "            return True\n",
    "        else :\n",
    "            return False\n",
    "\n",
    "checkVowel(\"r\")"
   ]
  }
 ],
 "metadata": {
  "kernelspec": {
   "display_name": "Python 3",
   "language": "python",
   "name": "python3"
  },
  "language_info": {
   "codemirror_mode": {
    "name": "ipython",
    "version": 3
   },
   "file_extension": ".py",
   "mimetype": "text/x-python",
   "name": "python",
   "nbconvert_exporter": "python",
   "pygments_lexer": "ipython3",
   "version": "3.5.2"
  }
 },
 "nbformat": 4,
 "nbformat_minor": 4
}
