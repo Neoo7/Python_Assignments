{
 "cells": [
  {
   "cell_type": "code",
   "execution_count": 13,
   "metadata": {},
   "outputs": [
    {
     "name": "stdout",
     "output_type": "stream",
     "text": [
      "Please enter numerator : 5\n",
      "Please enter denominator : 0\n",
      "Please don't enter zero as denomintor.\n"
     ]
    }
   ],
   "source": [
    "class DivisionException:\n",
    "    def myException(n, d):\n",
    "        try: \n",
    "            div = n/d\n",
    "            print(div)\n",
    "        except ZeroDivisionError as e:\n",
    "            print(\"Please don't enter zero as denomintor.\")\n",
    "\n",
    "n = int(input('Please enter numerator : '))\n",
    "d = int(input('Please enter denominator : '))\n",
    "DivisionException.myException(n, d)"
   ]
  },
  {
   "cell_type": "code",
   "execution_count": 12,
   "metadata": {},
   "outputs": [
    {
     "name": "stdout",
     "output_type": "stream",
     "text": [
      "Please enter the subjects with comma(,) separated : Americans, Indians\n",
      "Please enter the verbs with comma(,) separated : play, watch\n",
      "Please enter the objects with comma(,) separated : Baseball, Cricket\n",
      "\n",
      "Americans play Baseball.\n",
      "\n",
      "Americans play  Cricket.\n",
      "\n",
      "Americans  watch Baseball.\n",
      "\n",
      "Americans  watch  Cricket.\n",
      "\n",
      " Indians play Baseball.\n",
      "\n",
      " Indians play  Cricket.\n",
      "\n",
      " Indians  watch Baseball.\n",
      "\n",
      " Indians  watch  Cricket.\n"
     ]
    }
   ],
   "source": [
    "class PhraseSentence:\n",
    "    def __init__(self, subjects, verbs, objects):\n",
    "        self.subjects = subjects\n",
    "        self.verbs = verbs\n",
    "        self.objects = objects\n",
    "    \n",
    "    def getSentence(self):\n",
    "        subjects = self.subjects\n",
    "        verbs = self.verbs\n",
    "        objects = self.objects\n",
    "        for sub in subjects:\n",
    "            for ver in verbs:\n",
    "                for obj in objects:\n",
    "                    print('\\n' + sub + ' ' + ver + ' ' + obj + '.')\n",
    "                    \n",
    "subjects = (input(\"Please enter the subjects with comma(,) separated : \")).split(',')\n",
    "verbs = (input(\"Please enter the verbs with comma(,) separated : \")).split(',')\n",
    "objects = (input(\"Please enter the objects with comma(,) separated : \")).split(',')\n",
    "PhraseSentence(subjects, verbs, objects).getSentence()\n",
    "pass"
   ]
  },
  {
   "cell_type": "code",
   "execution_count": 11,
   "metadata": {},
   "outputs": [
    {
     "name": "stdout",
     "output_type": "stream",
     "text": [
      "Please enter the input vector value with comma(,) separated : 1,2,3,4\n",
      "Please enter True or False? : True\n",
      "1 1 1 1 \n",
      "\n",
      "1 2 4 8 \n",
      "\n",
      "1 3 9 27 \n",
      "\n",
      "1 4 16 64 \n",
      "\n"
     ]
    }
   ],
   "source": [
    "class GeometricProgression:\n",
    "    \n",
    "    def geo_matrix(val, inc):\n",
    "        \n",
    "        matrix = []\n",
    "        mtxLst = []\n",
    "        if(inc == 'True'):\n",
    "            for i in val:\n",
    "                num = int(i)\n",
    "                for j in range(len(val)):\n",
    "                    p = pow(num, j)\n",
    "                    matrix.append(p)\n",
    "                mtxLst.append(matrix)\n",
    "                matrix = []\n",
    "            for lst in mtxLst:\n",
    "                for val in lst:\n",
    "                    print(val, end = ' ')\n",
    "                print('\\n')\n",
    "        elif(inc == 'False'):\n",
    "            for i in val:\n",
    "                num = int(i)\n",
    "                for j in range(len(val)-1, -1, -1):\n",
    "                    p = pow(num, j)\n",
    "                    matrix.append(p)\n",
    "                mtxLst.append(matrix)\n",
    "                matrix = []\n",
    "            for lst in mtxLst:\n",
    "                for val in lst:\n",
    "                    print(val, end = ' ')\n",
    "                print('\\n')\n",
    "\n",
    "value = (input('Please enter the input vector value with comma(,) separated : ')).split(',')\n",
    "increment  = input('Please enter True or False? : ')\n",
    "GeometricProgression.geo_matrix(value, increment)"
   ]
  },
  {
   "cell_type": "code",
   "execution_count": null,
   "metadata": {},
   "outputs": [],
   "source": []
  }
 ],
 "metadata": {
  "kernelspec": {
   "display_name": "Python 3",
   "language": "python",
   "name": "python3"
  }
 },
 "nbformat": 4,
 "nbformat_minor": 2
}
